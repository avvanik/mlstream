{
 "cells": [
  {
   "cell_type": "code",
   "execution_count": 4,
   "id": "855f964a-023a-4c90-8c24-c9f0343c1da1",
   "metadata": {},
   "outputs": [],
   "source": [
    "import pandas as pd"
   ]
  },
  {
   "cell_type": "code",
   "execution_count": 5,
   "id": "3f62d51e-c620-4b4b-9eb9-65ac59e0747a",
   "metadata": {},
   "outputs": [],
   "source": [
    "led_g1 = pd.read_csv(\"led_g1.csv\", index_col=0)\n",
    "#create timestamp\n",
    "timestamp = pd.date_range(start=pd.Timestamp('00:00:00'), end=pd.Timestamp('00:02:40'), freq='L')\n",
    "#create df from timestamp\n",
    "timestamp = pd.DataFrame(timestamp, columns = ['datetime'])\n",
    "#drop rows\n",
    "timestamp.drop(timestamp.tail(60001).index, inplace=True)\n",
    "#add timestamp to df\n",
    "led_g1['datetime'] = timestamp\n",
    "#safe df\n",
    "led_g1.to_csv('t_led_g1.csv')"
   ]
  },
  {
   "cell_type": "code",
   "execution_count": 14,
   "id": "60794568-ae94-41ca-a593-9b243801a527",
   "metadata": {},
   "outputs": [],
   "source": [
    "sea_a = pd.read_csv(\"https://raw.githubusercontent.com/scikit-multiflow/streaming-datasets/master/sea_a.csv\")\n",
    "timestamp = pd.date_range(start=pd.Timestamp('00:00:00'), end=pd.Timestamp('00:17:40'), freq='L')\n",
    "timestamp = pd.DataFrame(timestamp, columns = ['datetime'])\n",
    "timestamp.drop(timestamp.tail(60001).index, inplace=True)\n",
    "sea_a['datetime'] = timestamp\n",
    "sea_a.to_csv('t_sea_a.csv')"
   ]
  },
  {
   "cell_type": "code",
   "execution_count": 15,
   "id": "d74bce09-63b0-4eec-bee5-6c4c4dea89d2",
   "metadata": {},
   "outputs": [],
   "source": [
    "sea_g = pd.read_csv(\"https://raw.githubusercontent.com/scikit-multiflow/streaming-datasets/master/sea_g.csv\")\n",
    "timestamp = pd.date_range(start=pd.Timestamp('00:00:00'), end=pd.Timestamp('00:17:40'), freq='L')\n",
    "timestamp = pd.DataFrame(timestamp, columns = ['datetime'])\n",
    "timestamp.drop(timestamp.tail(60001).index, inplace=True)\n",
    "sea_g['datetime'] = timestamp\n",
    "sea_g.to_csv('t_sea_g.csv')"
   ]
  },
  {
   "cell_type": "code",
   "execution_count": 12,
   "id": "02092d20-4060-40c2-966f-7945cc86f89c",
   "metadata": {},
   "outputs": [],
   "source": [
    "agr_a = pd.read_csv(\"https://raw.githubusercontent.com/scikit-multiflow/streaming-datasets/master/agr_a.csv\")\n",
    "timestamp = pd.date_range(start=pd.Timestamp('00:00:00'), end=pd.Timestamp('00:17:40'), freq='L')\n",
    "timestamp = pd.DataFrame(timestamp, columns = ['datetime'])\n",
    "timestamp.drop(timestamp.tail(60001).index, inplace=True)\n",
    "agr_a['datetime'] = timestamp\n",
    "agr_a.to_csv('t_agr_a.csv')"
   ]
  },
  {
   "cell_type": "code",
   "execution_count": 13,
   "id": "a33b40ad-515f-4862-b004-5a28544a6d6a",
   "metadata": {},
   "outputs": [],
   "source": [
    "agr_g = pd.read_csv(\"https://raw.githubusercontent.com/scikit-multiflow/streaming-datasets/master/agr_g.csv\")\n",
    "timestamp = pd.date_range(start=pd.Timestamp('00:00:00'), end=pd.Timestamp('00:17:40'), freq='L')\n",
    "timestamp = pd.DataFrame(timestamp, columns = ['datetime'])\n",
    "timestamp.drop(timestamp.tail(60001).index, inplace=True)\n",
    "agr_g['datetime'] = timestamp\n",
    "agr_g.to_csv('t_agr_g.csv')"
   ]
  },
  {
   "cell_type": "code",
   "execution_count": 16,
   "id": "bafdad09-4a84-4433-b0a0-027a91546f94",
   "metadata": {},
   "outputs": [],
   "source": [
    "air = pd.read_csv(\"https://raw.githubusercontent.com/scikit-multiflow/streaming-datasets/master/airlines.csv\")\n",
    "timestamp = pd.date_range(start=pd.Timestamp('00:00:00'), end=pd.Timestamp('00:09:50'), freq='L')\n",
    "timestamp = pd.DataFrame(timestamp, columns = ['datetime'])\n",
    "timestamp.drop(timestamp.tail(50618).index, inplace=True)\n",
    "air['datetime'] = timestamp\n",
    "air.to_csv('t_air.csv')"
   ]
  },
  {
   "cell_type": "code",
   "execution_count": 11,
   "id": "c3d256b4-c4dd-4028-b34a-6a9397de0d9c",
   "metadata": {},
   "outputs": [],
   "source": [
    "cov = pd.read_csv(\"covtype.csv\")\n",
    "timestamp = pd.date_range(start=pd.Timestamp('00:00:00'), end=pd.Timestamp('00:09:50'), freq='L')\n",
    "timestamp = pd.DataFrame(timestamp, columns = ['datetime'])\n",
    "timestamp.drop(timestamp.tail(8989).index, inplace=True)\n",
    "cov['datetime'] = timestamp\n",
    "cov.to_csv('t_cov.csv')"
   ]
  }
 ],
 "metadata": {
  "kernelspec": {
   "display_name": "Python 3 (ipykernel)",
   "language": "python",
   "name": "python3"
  },
  "language_info": {
   "codemirror_mode": {
    "name": "ipython",
    "version": 3
   },
   "file_extension": ".py",
   "mimetype": "text/x-python",
   "name": "python",
   "nbconvert_exporter": "python",
   "pygments_lexer": "ipython3",
   "version": "3.9.7"
  }
 },
 "nbformat": 4,
 "nbformat_minor": 5
}
