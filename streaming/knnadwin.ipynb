{
 "cells": [
  {
   "cell_type": "markdown",
   "id": "826c2835-70b4-4f19-bb4f-b21af3eeb8ad",
   "metadata": {},
   "source": [
    "Streaming KNN ADWIN Classification"
   ]
  },
  {
   "cell_type": "code",
   "execution_count": 1,
   "id": "965fd800-efa6-4b42-98eb-c48bfeb4fabd",
   "metadata": {},
   "outputs": [],
   "source": [
    "import numpy as np\n",
    "import pandas as pd\n",
    "\n",
    "from skmultiflow.lazy import KNNADWINClassifier\n",
    "\n",
    "from skmultiflow.data.sea_generator import SEAGenerator\n",
    "from skmultiflow.data.led_generator_drift import LEDGeneratorDrift\n",
    "from skmultiflow.data import AGRAWALGenerator\n",
    "from skmultiflow.data.stagger_generator import STAGGERGenerator\n",
    "\n",
    "from skmultiflow.data import ConceptDriftStream\n",
    "from skmultiflow.data.file_stream import FileStream\n",
    "\n",
    "from skmultiflow.evaluation import EvaluatePrequential\n",
    "\n",
    "\n",
    "#set variables\n",
    "m = 5000 #samples to evaluate\n",
    "p = 500 #samples used to train the model before evaluating\n",
    "mc = ['accuracy', 'kappa', 'precision', 'recall', 'f1', 'running_time', 'model_size']"
   ]
  },
  {
   "cell_type": "code",
   "execution_count": 2,
   "id": "8bc74692-9487-4c3d-9781-c1b2cf5ca913",
   "metadata": {},
   "outputs": [
    {
     "name": "stdout",
     "output_type": "stream",
     "text": [
      "Prequential Evaluation\n",
      "Evaluating 1 target(s).\n",
      "Pre-training on 500 sample(s).\n",
      "Evaluating...\n",
      " #################### [100%] [0.86s]\n",
      "Processed samples: 5000\n",
      "Mean performance:\n",
      "M0 - Accuracy     : 0.9202\n",
      "M0 - Kappa        : 0.8258\n",
      "M0 - Precision: 0.8358\n",
      "M0 - Recall: 0.9450\n",
      "M0 - F1 score: 0.8871\n",
      "M0 - Training time (s)  : 0.44\n",
      "M0 - Testing time  (s)  : 0.29\n",
      "M0 - Total time    (s)  : 0.73\n",
      "M0 - Size (kB)          : 45.2334\n"
     ]
    },
    {
     "data": {
      "text/plain": [
       "[HoeffdingTreeClassifier(binary_split=False, grace_period=200,\n",
       "                         leaf_prediction='nba', max_byte_size=33554432,\n",
       "                         memory_estimate_period=1000000, nb_threshold=0,\n",
       "                         no_preprune=False, nominal_attributes=None,\n",
       "                         remove_poor_atts=False, split_confidence=1e-07,\n",
       "                         split_criterion='info_gain', stop_mem_management=False,\n",
       "                         tie_threshold=0.05)]"
      ]
     },
     "execution_count": 2,
     "metadata": {},
     "output_type": "execute_result"
    }
   ],
   "source": [
    "#create stream\n",
    "agr_g_stream = FileStream('https://raw.githubusercontent.com/scikit-multiflow/streaming-datasets/master/agr_g.csv') \n",
    "\n",
    "#set classifier\n",
    "knn_adwin = KNNADWINClassifier()\n",
    "\n",
    "#set evaluation\n",
    "evaluator = EvaluatePrequential(max_samples=m,\n",
    "                                pretrain_size=p,\n",
    "                                metrics=mc)\n",
    "\n",
    "evaluator.evaluate(stream=agr_g_stream, model=knn_adwin)"
   ]
  },
  {
   "cell_type": "code",
   "execution_count": 8,
   "id": "3fd80a38-2119-455a-932f-3d9bffa360b6",
   "metadata": {},
   "outputs": [
    {
     "name": "stdout",
     "output_type": "stream",
     "text": [
      "Prequential Evaluation\n",
      "Evaluating 1 target(s).\n",
      "Pre-training on 500 sample(s).\n",
      "Evaluating...\n",
      " #################### [100%] [0.88s]\n",
      "Processed samples: 5000\n",
      "Mean performance:\n",
      "M0 - Accuracy     : 0.9202\n",
      "M0 - Kappa        : 0.8258\n",
      "M0 - Precision: 0.8358\n",
      "M0 - Recall: 0.9450\n",
      "M0 - F1 score: 0.8871\n",
      "M0 - Training time (s)  : 0.46\n",
      "M0 - Testing time  (s)  : 0.29\n",
      "M0 - Total time    (s)  : 0.75\n",
      "M0 - Size (kB)          : 45.2334\n"
     ]
    },
    {
     "data": {
      "text/plain": [
       "[HoeffdingTreeClassifier(binary_split=False, grace_period=200,\n",
       "                         leaf_prediction='nba', max_byte_size=33554432,\n",
       "                         memory_estimate_period=1000000, nb_threshold=0,\n",
       "                         no_preprune=False, nominal_attributes=None,\n",
       "                         remove_poor_atts=False, split_confidence=1e-07,\n",
       "                         split_criterion='info_gain', stop_mem_management=False,\n",
       "                         tie_threshold=0.05)]"
      ]
     },
     "execution_count": 8,
     "metadata": {},
     "output_type": "execute_result"
    }
   ],
   "source": [
    "#create stream\n",
    "agr_a_stream = FileStream('https://raw.githubusercontent.com/scikit-multiflow/streaming-datasets/master/agr_a.csv') \n",
    "\n",
    "#set classifier\n",
    "knn_adwin = KNNADWINClassifier()\n",
    "\n",
    "#set evaluation\n",
    "evaluator = EvaluatePrequential(max_samples=m,\n",
    "                                pretrain_size=p,\n",
    "                                metrics=mc)\n",
    "\n",
    "evaluator.evaluate(stream=agr_a_stream, model=knn_adwin)"
   ]
  },
  {
   "cell_type": "code",
   "execution_count": 11,
   "id": "75086737-ad3f-43d1-a2b5-1b39e17b83b5",
   "metadata": {},
   "outputs": [
    {
     "name": "stdout",
     "output_type": "stream",
     "text": [
      "Prequential Evaluation\n",
      "Evaluating 1 target(s).\n",
      "Pre-training on 500 sample(s).\n",
      "Evaluating...\n",
      " #################### [100%] [0.78s]\n",
      "Processed samples: 5000\n",
      "Mean performance:\n",
      "M0 - Accuracy     : 0.6847\n",
      "M0 - Kappa        : 0.2848\n",
      "M0 - Precision: 0.6922\n",
      "M0 - Recall: 0.8704\n",
      "M0 - F1 score: 0.7712\n",
      "M0 - Training time (s)  : 0.28\n",
      "M0 - Testing time  (s)  : 0.26\n",
      "M0 - Total time    (s)  : 0.54\n",
      "M0 - Size (kB)          : 21.0029\n"
     ]
    },
    {
     "data": {
      "text/plain": [
       "[HoeffdingTreeClassifier(binary_split=False, grace_period=200,\n",
       "                         leaf_prediction='nba', max_byte_size=33554432,\n",
       "                         memory_estimate_period=1000000, nb_threshold=0,\n",
       "                         no_preprune=False, nominal_attributes=None,\n",
       "                         remove_poor_atts=False, split_confidence=1e-07,\n",
       "                         split_criterion='info_gain', stop_mem_management=False,\n",
       "                         tie_threshold=0.05)]"
      ]
     },
     "execution_count": 11,
     "metadata": {},
     "output_type": "execute_result"
    }
   ],
   "source": [
    "#create stream\n",
    "sea_a_stream = FileStream('https://raw.githubusercontent.com/scikit-multiflow/streaming-datasets/master/sea_a.csv') \n",
    "\n",
    "#set classifier\n",
    "knn_adwin = KNNADWINClassifier()\n",
    "\n",
    "#set evaluation\n",
    "evaluator = EvaluatePrequential(max_samples=m,\n",
    "                                pretrain_size=p,\n",
    "                                metrics=mc)\n",
    "\n",
    "evaluator.evaluate(stream=sea_a_stream, model=knn_adwin)"
   ]
  },
  {
   "cell_type": "code",
   "execution_count": null,
   "id": "7fe7e4d6-def7-496f-bb7e-8c4623fef10b",
   "metadata": {},
   "outputs": [],
   "source": [
    "#create stream\n",
    "sea_g_stream = FileStream('https://raw.githubusercontent.com/scikit-multiflow/streaming-datasets/master/sea_g.csv') \n",
    "\n",
    "#set classifier\n",
    "knn_adwin = KNNADWINClassifier()\n",
    "\n",
    "#set evaluation\n",
    "evaluator = EvaluatePrequential(max_samples=m,\n",
    "                                pretrain_size=p,\n",
    "                                metrics=mc)\n",
    "\n",
    "evaluator.evaluate(stream=sea_g_stream, model=knn_adwin)"
   ]
  },
  {
   "cell_type": "code",
   "execution_count": 4,
   "id": "6c17d6f5-2e5a-4e17-a719-cf5505a95835",
   "metadata": {},
   "outputs": [
    {
     "name": "stdout",
     "output_type": "stream",
     "text": [
      "Prequential Evaluation\n",
      "Evaluating 1 target(s).\n",
      "Pre-training on 500 sample(s).\n",
      "Evaluating...\n",
      " #####--------------- [25%] [0.19s]"
     ]
    },
    {
     "name": "stderr",
     "output_type": "stream",
     "text": [
      "/Users/anna/opt/anaconda3/lib/python3.9/site-packages/skmultiflow/data/concept_drift_stream.py:86: FutureWarning: Default value for 'alpha' has changed from 0 to None. 'alpha=0' will throw an error from v0.7.0\n",
      "  warnings.warn(\"Default value for 'alpha' has changed from 0 to None. 'alpha=0' will \"\n"
     ]
    },
    {
     "name": "stdout",
     "output_type": "stream",
     "text": [
      " #################### [100%] [0.82s]\n",
      "Processed samples: 5000\n",
      "Mean performance:\n",
      "M0 - Accuracy     : 0.9287\n",
      "M0 - Kappa        : 0.8530\n",
      "M0 - Precision: 0.9015\n",
      "M0 - Recall: 0.9807\n",
      "M0 - F1 score: 0.9394\n",
      "M0 - Training time (s)  : 0.27\n",
      "M0 - Testing time  (s)  : 0.28\n",
      "M0 - Total time    (s)  : 0.55\n",
      "M0 - Size (kB)          : 20.8154\n"
     ]
    },
    {
     "data": {
      "text/plain": [
       "[HoeffdingTreeClassifier(binary_split=False, grace_period=200,\n",
       "                         leaf_prediction='nba', max_byte_size=33554432,\n",
       "                         memory_estimate_period=1000000, nb_threshold=0,\n",
       "                         no_preprune=False, nominal_attributes=None,\n",
       "                         remove_poor_atts=False, split_confidence=1e-07,\n",
       "                         split_criterion='info_gain', stop_mem_management=False,\n",
       "                         tie_threshold=0.05)]"
      ]
     },
     "execution_count": 4,
     "metadata": {},
     "output_type": "execute_result"
    }
   ],
   "source": [
    "#create stream\n",
    "stag_g_stream = ConceptDriftStream(stream=STAGGERGenerator\n",
    "                   (balance_classes=False, \n",
    "                    classification_function=1, \n",
    "                    random_state=112), \n",
    "                   drift_stream=STAGGERGenerator\n",
    "                   (balance_classes=False, \n",
    "                    classification_function=2, \n",
    "                    random_state=112), \n",
    "                   position=5000, width=1000, random_state=None, alpha=0)\n",
    "\n",
    "#set classifier\n",
    "knn_adwin = KNNADWINClassifier()\n",
    "\n",
    "#set evaluation\n",
    "evaluator = EvaluatePrequential(max_samples=m,\n",
    "                                pretrain_size=p,\n",
    "                                metrics=mc)\n",
    "\n",
    "evaluator.evaluate(stream=stag_g_stream, model=knn_adwin)"
   ]
  },
  {
   "cell_type": "code",
   "execution_count": 15,
   "id": "08d31c9c-3394-4c41-b51e-bbcd8adb0743",
   "metadata": {},
   "outputs": [
    {
     "name": "stdout",
     "output_type": "stream",
     "text": [
      "Prequential Evaluation\n",
      "Evaluating 1 target(s).\n",
      "Pre-training on 500 sample(s).\n",
      "Evaluating...\n",
      " #################### [100%] [6.44s]\n",
      "Processed samples: 5000\n",
      "Mean performance:\n",
      "M0 - Accuracy     : 0.2738\n",
      "M0 - Kappa        : 0.1928\n",
      "M0 - Precision: 0.2708\n",
      "M0 - Recall: 0.2730\n",
      "M0 - F1 score: 0.2693\n",
      "M0 - Training time (s)  : 3.47\n",
      "M0 - Testing time  (s)  : 2.43\n",
      "M0 - Total time    (s)  : 5.90\n",
      "M0 - Size (kB)          : 112.7432\n"
     ]
    },
    {
     "data": {
      "text/plain": [
       "[HoeffdingTreeClassifier(binary_split=False, grace_period=200,\n",
       "                         leaf_prediction='nba', max_byte_size=33554432,\n",
       "                         memory_estimate_period=1000000, nb_threshold=0,\n",
       "                         no_preprune=False, nominal_attributes=None,\n",
       "                         remove_poor_atts=False, split_confidence=1e-07,\n",
       "                         split_criterion='info_gain', stop_mem_management=False,\n",
       "                         tie_threshold=0.05)]"
      ]
     },
     "execution_count": 15,
     "metadata": {},
     "output_type": "execute_result"
    }
   ],
   "source": [
    "#create stream\n",
    "led_g1_stream = LEDGeneratorDrift(random_state = 112, noise_percentage = 0.34,has_noise= True,\n",
    "n_drift_features=10) #es werden 10 Features mit irrelevanten getauscht\n",
    "\n",
    "#set classifier\n",
    "knn_adwin = KNNADWINClassifier()\n",
    "\n",
    "#set evaluation\n",
    "evaluator = EvaluatePrequential(max_samples=m,\n",
    "                                pretrain_size=p,\n",
    "                                metrics=mc)\n",
    "\n",
    "evaluator.evaluate(stream=led_g1_stream, model=knn_adwin)"
   ]
  },
  {
   "cell_type": "code",
   "execution_count": 16,
   "id": "da58b222-6622-492d-ae8a-0c47bc0c4816",
   "metadata": {},
   "outputs": [
    {
     "name": "stdout",
     "output_type": "stream",
     "text": [
      "Prequential Evaluation\n",
      "Evaluating 1 target(s).\n",
      "Pre-training on 500 sample(s).\n",
      "Evaluating...\n",
      " #################### [100%] [6.60s]\n",
      "Processed samples: 5000\n",
      "Mean performance:\n",
      "M0 - Accuracy     : 0.2713\n",
      "M0 - Kappa        : 0.1901\n",
      "M0 - Precision: 0.2688\n",
      "M0 - Recall: 0.2707\n",
      "M0 - F1 score: 0.2671\n",
      "M0 - Training time (s)  : 3.60\n",
      "M0 - Testing time  (s)  : 2.47\n",
      "M0 - Total time    (s)  : 6.07\n",
      "M0 - Size (kB)          : 113.6807\n"
     ]
    },
    {
     "data": {
      "text/plain": [
       "[HoeffdingTreeClassifier(binary_split=False, grace_period=200,\n",
       "                         leaf_prediction='nba', max_byte_size=33554432,\n",
       "                         memory_estimate_period=1000000, nb_threshold=0,\n",
       "                         no_preprune=False, nominal_attributes=None,\n",
       "                         remove_poor_atts=False, split_confidence=1e-07,\n",
       "                         split_criterion='info_gain', stop_mem_management=False,\n",
       "                         tie_threshold=0.05)]"
      ]
     },
     "execution_count": 16,
     "metadata": {},
     "output_type": "execute_result"
    }
   ],
   "source": [
    "#create stream\n",
    "led_g2_stream = LEDGeneratorDrift(random_state = 112, noise_percentage = 0.34,has_noise= True,\n",
    "n_drift_features=2) #es werden 2 Features mit irrelevanten getauscht\n",
    "\n",
    "#set classifier\n",
    "knn_adwin = KNNADWINClassifier()\n",
    "\n",
    "#set evaluation\n",
    "evaluator = EvaluatePrequential(max_samples=m,\n",
    "                                pretrain_size=p,\n",
    "                                metrics=mc)\n",
    "\n",
    "evaluator.evaluate(stream=led_g2_stream, model=knn_adwin)"
   ]
  },
  {
   "cell_type": "code",
   "execution_count": 17,
   "id": "b28aca8c-a857-4cb6-a852-848da519c64b",
   "metadata": {},
   "outputs": [
    {
     "name": "stdout",
     "output_type": "stream",
     "text": [
      "Prequential Evaluation\n",
      "Evaluating 1 target(s).\n",
      "Pre-training on 500 sample(s).\n",
      "Evaluating...\n",
      " #################### [100%] [1.26s]\n",
      "Processed samples: 5000\n",
      "Mean performance:\n",
      "M0 - Accuracy     : 0.6589\n",
      "M0 - Kappa        : 0.0179\n",
      "M0 - Precision: 0.4717\n",
      "M0 - Recall: 0.0327\n",
      "M0 - F1 score: 0.0612\n",
      "M0 - Training time (s)  : 0.85\n",
      "M0 - Testing time  (s)  : 0.29\n",
      "M0 - Total time    (s)  : 1.14\n",
      "M0 - Size (kB)          : 28.3506\n"
     ]
    },
    {
     "data": {
      "text/plain": [
       "[HoeffdingTreeClassifier(binary_split=False, grace_period=200,\n",
       "                         leaf_prediction='nba', max_byte_size=33554432,\n",
       "                         memory_estimate_period=1000000, nb_threshold=0,\n",
       "                         no_preprune=False, nominal_attributes=None,\n",
       "                         remove_poor_atts=False, split_confidence=1e-07,\n",
       "                         split_criterion='info_gain', stop_mem_management=False,\n",
       "                         tie_threshold=0.05)]"
      ]
     },
     "execution_count": 17,
     "metadata": {},
     "output_type": "execute_result"
    }
   ],
   "source": [
    "#create stream\n",
    "air_stream = FileStream('https://raw.githubusercontent.com/scikit-multiflow/streaming-datasets/master/airlines.csv') \n",
    "\n",
    "#set classifier\n",
    "knn_adwin = KNNADWINClassifier()\n",
    "\n",
    "#set evaluation\n",
    "evaluator = EvaluatePrequential(max_samples=m,\n",
    "                                pretrain_size=p,\n",
    "                                metrics=mc)\n",
    "\n",
    "evaluator.evaluate(stream=air_stream, model=knn_adwin)"
   ]
  },
  {
   "cell_type": "code",
   "execution_count": 19,
   "id": "cf9fe185-fc7a-4d82-873d-c8cdc5ff41a8",
   "metadata": {},
   "outputs": [
    {
     "name": "stdout",
     "output_type": "stream",
     "text": [
      "Prequential Evaluation\n",
      "Evaluating 1 target(s).\n",
      "Pre-training on 500 sample(s).\n",
      "Evaluating...\n",
      " #################### [100%] [0.87s]\n",
      "Processed samples: 5000\n",
      "Mean performance:\n",
      "M0 - Accuracy     : 0.8324\n",
      "M0 - Kappa        : 0.6401\n",
      "M0 - Precision: 0.8029\n",
      "M0 - Recall: 0.7440\n",
      "M0 - F1 score: 0.7723\n",
      "M0 - Training time (s)  : 0.38\n",
      "M0 - Testing time  (s)  : 0.34\n",
      "M0 - Total time    (s)  : 0.72\n",
      "M0 - Size (kB)          : 65.5771\n"
     ]
    },
    {
     "data": {
      "text/plain": [
       "[HoeffdingTreeClassifier(binary_split=False, grace_period=200,\n",
       "                         leaf_prediction='nba', max_byte_size=33554432,\n",
       "                         memory_estimate_period=1000000, nb_threshold=0,\n",
       "                         no_preprune=False, nominal_attributes=None,\n",
       "                         remove_poor_atts=False, split_confidence=1e-07,\n",
       "                         split_criterion='info_gain', stop_mem_management=False,\n",
       "                         tie_threshold=0.05)]"
      ]
     },
     "execution_count": 19,
     "metadata": {},
     "output_type": "execute_result"
    }
   ],
   "source": [
    "#create stream\n",
    "elec_stream = FileStream('https://raw.githubusercontent.com/scikit-multiflow/streaming-datasets/master/elec.csv') \n",
    "\n",
    "#set classifier\n",
    "knn_adwin = KNNADWINClassifier()\n",
    "\n",
    "#set evaluation\n",
    "evaluator = EvaluatePrequential(max_samples=m,\n",
    "                                pretrain_size=p,\n",
    "                                metrics=mc)\n",
    "\n",
    "evaluator.evaluate(stream=elec_stream, model=knn_adwin)"
   ]
  },
  {
   "cell_type": "code",
   "execution_count": 20,
   "id": "89f6dc89-9c53-42bd-9521-d92954d90e36",
   "metadata": {},
   "outputs": [
    {
     "name": "stdout",
     "output_type": "stream",
     "text": [
      "Prequential Evaluation\n",
      "Evaluating 1 target(s).\n",
      "Pre-training on 500 sample(s).\n",
      "Evaluating...\n",
      " #################### [100%] [15.52s]\n",
      "Processed samples: 5000\n",
      "Mean performance:\n",
      "M0 - Accuracy     : 0.5691\n",
      "M0 - Kappa        : 0.4836\n",
      "M0 - Precision: 0.5785\n",
      "M0 - Recall: 0.4540\n",
      "M0 - F1 score: 0.4485\n",
      "M0 - Training time (s)  : 9.21\n",
      "M0 - Testing time  (s)  : 6.11\n",
      "M0 - Total time    (s)  : 15.32\n",
      "M0 - Size (kB)          : 190.4697\n"
     ]
    },
    {
     "data": {
      "text/plain": [
       "[HoeffdingTreeClassifier(binary_split=False, grace_period=200,\n",
       "                         leaf_prediction='nba', max_byte_size=33554432,\n",
       "                         memory_estimate_period=1000000, nb_threshold=0,\n",
       "                         no_preprune=False, nominal_attributes=None,\n",
       "                         remove_poor_atts=False, split_confidence=1e-07,\n",
       "                         split_criterion='info_gain', stop_mem_management=False,\n",
       "                         tie_threshold=0.05)]"
      ]
     },
     "execution_count": 20,
     "metadata": {},
     "output_type": "execute_result"
    }
   ],
   "source": [
    "#create stream\n",
    "for_stream = FileStream('covtype.csv') \n",
    "\n",
    "#set classifier\n",
    "knn_adwin = KNNADWINClassifier()\n",
    "\n",
    "#set evaluation\n",
    "evaluator = EvaluatePrequential(max_samples=m,\n",
    "                                pretrain_size=p,\n",
    "                                metrics=mc)\n",
    "\n",
    "evaluator.evaluate(stream=for_stream, model=knn_adwin)"
   ]
  },
  {
   "cell_type": "code",
   "execution_count": null,
   "id": "c13df63c-ad02-4afa-a471-211752ed5182",
   "metadata": {},
   "outputs": [],
   "source": [
    "#create stream\n",
    "pok_stream = FileStream('https://archive.ics.uci.edu/ml/machine-learning-databases/poker/poker-hand-testing.data') \n",
    "\n",
    "#set classifier\n",
    "knn_adwin = KNNADWINClassifier()\n",
    "\n",
    "#set evaluation\n",
    "evaluator = EvaluatePrequential(max_samples=m,\n",
    "                                pretrain_size=p,\n",
    "                                metrics=mc)\n",
    "\n",
    "evaluator.evaluate(stream=pok_stream, model=knn_adwin)"
   ]
  }
 ],
 "metadata": {
  "kernelspec": {
   "display_name": "Python 3 (ipykernel)",
   "language": "python",
   "name": "python3"
  },
  "language_info": {
   "codemirror_mode": {
    "name": "ipython",
    "version": 3
   },
   "file_extension": ".py",
   "mimetype": "text/x-python",
   "name": "python",
   "nbconvert_exporter": "python",
   "pygments_lexer": "ipython3",
   "version": "3.9.7"
  }
 },
 "nbformat": 4,
 "nbformat_minor": 5
}
